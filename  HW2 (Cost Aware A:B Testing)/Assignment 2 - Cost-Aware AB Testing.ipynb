{
 "cells": [
  {
   "cell_type": "markdown",
   "metadata": {},
   "source": [
    "# Assignment 2: Cost-Aware A/B Testing"
   ]
  },
  {
   "cell_type": "markdown",
   "metadata": {},
   "source": [
    "## Background\n",
    "\n",
    "A/B testing (a.k.a. randomized controlled trials, randomized experiments) is one of the most important ways to understand causal relationships. In a typical A/B testing setup, there will be one (or more) treatment group and one control group, and a pool of subjects are randomly assigned to the experimental groups based on pre-determined proportions (e.g., equal assignments). \n",
    "\n",
    "While this is a perfectly legitimate way to test causality, it can be inefficient in practice. Imagine a clinical trial of two treatment options: drug A and placebo B, and let's assume that (in fact) drug A is much more effective than placebo B in treating a certain condition. Then, every subject that is assigned to the placebo group has to (unfortunately) endure some non-trivial costs, i.e., their conditions are not treated timely even when an effective drug exists. Note that some of the costs are necessary - after all, we don't know the effectiveness of drug A a priori and need a sufficient number of people in both groups to find out. However, as the effectiveness of drug A becomes clearer and clearer over the course of the experiment, perhaps it makes sense to gradually reduce the assignment to the placebo group, in order to reduce costs. \n",
    "\n",
    "This is the basic idea behind **cost-aware A/B testing**. It is an important emerging topic in experimentation, and has attracted a lot of attention from both researchers and practitioners."
   ]
  },
  {
   "cell_type": "markdown",
   "metadata": {},
   "source": [
    "## Problem and Task\n",
    "\n",
    "**Problem Statement**: \n",
    "\n",
    "Formally, consider an experiment with $k$ treatment options $\\{T_1, \\ldots, T_k\\}$ (no need to explicitly differentiate between treatment and control in a traditional sense, one of these options could be a control condition). Each of the $k$ treatments has a true underlying treatment effect $\\{TE_1, \\ldots, TE_k\\}$, which is unknown to the experimenter before the experiment is conducted. For an arbitrary subject $i$ that is assigned to a treatment $j$, the realized treatment effect $TE_{ij}$ is a random draw from the normal distribution surrounding the true treatment effect with unknown variance, i.e., $TE_{ij} \\sim N(TE_j, \\sigma^2_j)$. There are $N$ subjects available in total, who can be assigned to the different treatment groups. The goal of the experimenter is twofold: (1) the experimenter wants to understand the effectiveness of each treatment option (this is why the experiment is conducted in the first place); (2) at the same time, the experimenter wants to be cost-aware in treatment assignment and try to avoid incurring too much costs.\n",
    "\n",
    "**Your Task**:\n",
    "1. Formulate the above problem into a specific reinforcement learning problem. Clearly define and articulate the agent, environment, actions, rewards, and the agent's objective, etc.;\n",
    "2. Create a simulation environment for this problem. This means manually picking some values for the treatment effects, number of subjects, and how the realized treatment effect for each subject should be generated, etc.;\n",
    "3. Solve the reinforcement learning problem you have formulated in step 1 using multiple methods that may be appropriate. For each method that you choose to use, you need to (1) briefly describe how it works, (2) implement it, and (3) evaluate its performance in the simulation environment that you have created in step 2.\n",
    "4. **Deliverable**: a PDF file rendered from a Jupyter Notebook that documents your answers, code, and outputs."
   ]
  },
  {
   "cell_type": "markdown",
   "metadata": {},
   "source": [
    "## Grading\n",
    "\n",
    "Your grade for this assignment is determined by three factors:\n",
    "1. Problem formulation (8 points): correctly formulate the problem and define its key components;\n",
    "2. Simulation setup (2 points): correctly set up a decent simulation environment;\n",
    "3. Solution (15 points): correctly describe, implement, and evaluate multiple solution methods. While only trying a single method is not sufficient, you also don't need to try too many (3-4 should be good)."
   ]
  },
  {
   "cell_type": "code",
   "execution_count": 96,
   "metadata": {},
   "outputs": [],
   "source": [
    "# import packages\n",
    "import numpy as np\n",
    "import matplotlib.pyplot as plt"
   ]
  },
  {
   "cell_type": "markdown",
   "metadata": {},
   "source": [
    "## 1. Problem setup\n",
    "In this project, I simulate a cost-aware A/B Testing with **3 control groups and 1 treatment group**. Besides, there are totally **2000 samples within this experiment**. The ultimate goal is to assign samples to different groups cost-effectively. At the same time, I expect **the standard deviation within each group to be minimize as much as possible**."
   ]
  },
  {
   "cell_type": "code",
   "execution_count": 100,
   "metadata": {},
   "outputs": [
    {
     "name": "stdout",
     "output_type": "stream",
     "text": [
      "[ 0.12715784  1.40189088  0.31481499 -0.85844916]\n"
     ]
    },
    {
     "data": {
      "text/plain": [
       "'Average reward is 0.24635363721574335, Best arm reward is 1.4018908824849983.'"
      ]
     },
     "execution_count": 100,
     "metadata": {},
     "output_type": "execute_result"
    }
   ],
   "source": [
    "# Let's consider a 4-arm bandit (3 control and 1 treatment), and suppose the agent plays the bandit machine for 1000 rounds in total\n",
    "k = 4\n",
    "T = 2000\n",
    "# First, simulate the true expected reward, r_i, of each arm, based on a standard normal (you can pick any distribution you want)\n",
    "# set a seed so the results are reproducible\n",
    "np.random.seed(999)\n",
    "true_rewards = np.random.normal(size = k)\n",
    "print(true_rewards)\n",
    "f\"Average reward is {np.mean(true_rewards)}, Best arm reward is {max(true_rewards)}.\""
   ]
  },
  {
   "cell_type": "markdown",
   "metadata": {},
   "source": [
    "## 2. Create pre-required functions"
   ]
  },
  {
   "cell_type": "code",
   "execution_count": 107,
   "metadata": {},
   "outputs": [],
   "source": [
    "# A. Create the choose function\n",
    "# Every time a group is chosen, a reward is produced by random drawing from N(r_i, 1)\n",
    "# Define a function for convenience:\n",
    "def choose(group_ind):\n",
    "    return np.random.normal(loc = true_rewards[group_ind], scale = 1)"
   ]
  },
  {
   "cell_type": "code",
   "execution_count": 108,
   "metadata": {},
   "outputs": [],
   "source": [
    "# B. Create the estimation of Q_t(a)\n",
    "# Let's implement the estimation of Q_t(a) as a function\n",
    "# This is an incremental implementation, i.e., we update the Q_t(a) values every time a new action is taken\n",
    "def value_est(curr_values, counter, action, reward):\n",
    "    # curr_values stores the current estimate of Q_t(a)\n",
    "    # counter keeps a record of how many times each arm has been pulled\n",
    "    # action and reward are the next action and observed reward\n",
    "    curr_values[action] = (curr_values[action]*counter[action] + reward) / (counter[action] + 1)\n",
    "    counter[action] += 1\n",
    "    return curr_values, counter"
   ]
  },
  {
   "cell_type": "markdown",
   "metadata": {},
   "source": [
    "## Method1: Epsilon-Greedy + Minimize Group Standard Deviation \n",
    "In this modified method, I use the epsilon greedy method as the foundation. At the same time, I take standard deviation of each group into account. I try to **minimize the standard deviation of each group while being cost-aware at the same time**.     \n",
    "   \n",
    "**Step1: I creat a 2D array to store all reward histories for each group.**   \n",
    "**Step2: I calculate the standard deviation of each group at the end of each round.**   \n",
    "**Step3: I create a new variable called final values that equals to the sum of original current value and standard deviation.**    \n",
    "**Step4: At the begining of next round, I **choose the group with the highest final value.** \n",
    "   \n",
    "In order to make sure **the model explore more** at the begining stage, I **force the initial values of the standard deviation of those groups not chosen yet to be 1**."
   ]
  },
  {
   "cell_type": "code",
   "execution_count": 109,
   "metadata": {},
   "outputs": [
    {
     "name": "stderr",
     "output_type": "stream",
     "text": [
      "/opt/anaconda3/lib/python3.7/site-packages/numpy/core/_methods.py:217: RuntimeWarning: Degrees of freedom <= 0 for slice\n",
      "  keepdims=keepdims)\n",
      "/opt/anaconda3/lib/python3.7/site-packages/numpy/core/_methods.py:186: RuntimeWarning: invalid value encountered in true_divide\n",
      "  arrmean, rcount, out=arrmean, casting='unsafe', subok=False)\n",
      "/opt/anaconda3/lib/python3.7/site-packages/numpy/core/_methods.py:209: RuntimeWarning: invalid value encountered in double_scalars\n",
      "  ret = ret.dtype.type(ret / rcount)\n"
     ]
    }
   ],
   "source": [
    "# Create a 2D list to store all the rewards so that we could calculate the standard deviation\n",
    "all_rewards=[]\n",
    "for i in range(k):\n",
    "    tem=[]\n",
    "    all_rewards.append([])\n",
    "\n",
    "# Create a list to store each group's standard deviation\n",
    "# With a initial value of 1, it forces the machine to choose those groups with no samples in initial stage\n",
    "std=[1]*k  \n",
    "\n",
    "# Create a variable called final value = current value + standard deviation\n",
    "final_values=[0]*k\n",
    "\n",
    "# Epsilon-Greedy strategy\n",
    "curr_values = [0]*k  # initial values\n",
    "counter = [0]*k  # initialize counter\n",
    "eps = 0.2  # force to explore 20% of the time\n",
    "reward_greedy_eps = []\n",
    "sumreward_greedy_eps = []\n",
    "avereward_greedy_eps = []\n",
    "\n",
    "for t in range(T):\n",
    "    # current best group\n",
    "    group = np.argmax(final_values)\n",
    "    # throw a coin\n",
    "    explore = np.random.binomial(1, eps)\n",
    "    if explore:\n",
    "        # randomly pull another group\n",
    "        group = np.random.choice(np.setdiff1d(range(k), group))\n",
    "    reward = choose(group)\n",
    "    reward_greedy_eps.append(reward)\n",
    "    \n",
    "    all_rewards[group].append(reward) #store all the historic rewards for each group\n",
    "    for i in range(k): #calculate standard deviation for each group\n",
    "        if np.isnan(np.std(all_rewards[i])):\n",
    "            std\n",
    "        else:\n",
    "            std[i]=np.std(all_rewards[i])\n",
    "    \n",
    "    # record sum and average reward up to this round\n",
    "    sumreward_greedy_eps.append(np.sum(reward_greedy_eps))\n",
    "    avereward_greedy_eps.append(np.mean(reward_greedy_eps))\n",
    "    # update curr_values\n",
    "    curr_values, counter = value_est(curr_values, counter, group, reward)\n",
    "    final_values=np.add(std,curr_values)"
   ]
  },
  {
   "cell_type": "code",
   "execution_count": 110,
   "metadata": {},
   "outputs": [
    {
     "data": {
      "image/png": "[encoded data removed]",
      "text/plain": [
       "<Figure size 432x288 with 2 Axes>"
      ]
     },
     "metadata": {
      "needs_background": "light"
     },
     "output_type": "display_data"
    }
   ],
   "source": [
    "# Let's plot the sum and average reward over 2000 samples\n",
    "plt.subplot(1, 2, 1)\n",
    "plt.plot(sumreward_greedy_eps)\n",
    "plt.title(\"Total Reward\")\n",
    "plt.legend([\"epsilon-greedy\"])\n",
    "\n",
    "plt.subplot(1, 2, 2)\n",
    "plt.plot(avereward_greedy_eps)\n",
    "plt.title(\"Average Reward Per Round\")\n",
    "plt.legend([\"epsilon-greedy\"])\n",
    "plt.show()"
   ]
  },
  {
   "cell_type": "markdown",
   "metadata": {},
   "source": [
    "The result clearly shows that by taking standard deviations of each group into the epsilon greedy model, **most groups have sufficient samples and have very close and small standard deviation**. Hence, I believe the modified model does a good job. In addition, based on the two plots above, **the model is extremely cost-aware**. **After some rounds of exploration, model quickly finds the best group**."
   ]
  },
  {
   "cell_type": "code",
   "execution_count": 111,
   "metadata": {},
   "outputs": [
    {
     "name": "stdout",
     "output_type": "stream",
     "text": [
      "The current values of the four groups: 0.015, 1.423, 0.337, -0.784\n",
      "The standard deviation of the four groups: 0.99, 1.014, 1.087, 1.035\n",
      "The amount of samples in the four groups: 134, 1593, 136, 137\n"
     ]
    }
   ],
   "source": [
    "# check out the values, counter, and standard deviations.\n",
    "print('The current values of the four groups: {}, {}, {}, {}'.format(round(curr_values[0],3),round(curr_values[1],3),round(curr_values[2],3),round(curr_values[3],3)))\n",
    "print('The standard deviation of the four groups: {}, {}, {}, {}'.format(round(std[0],3),round(std[1],3),round(std[2],3),round(std[3],3)))\n",
    "print('The amount of samples in the four groups: {}, {}, {}, {}'.format(round(counter[0],0),round(counter[1],0),round(counter[2],0),round(counter[3],0)))"
   ]
  },
  {
   "cell_type": "markdown",
   "metadata": {},
   "source": [
    "## Method2: Upper-Confidence-Bound (UCB) Strategy  + Minimize Group Standard Deviation \n",
    "In this modified method, I UCB strategy as the foundation. At the same time, I take standard deviation of each group into account. I try to **minimize the standard deviation of each group while being cost-aware at the same time**. \n",
    "  \n",
    "$$A_t = \\arg\\max_a \\left\\{Q_t(a) + STD(a) + c \\cdot \\sqrt{\\frac{\\ln t}{N_t(a)}} \\right\\}$$\n",
    "where $c$ is a constant that controls the \"aggressiveness\" of exploration, and $N_t(a)$ is the number of times that action $a$ has been taken in the previous $t-1$ rounds (i.e., the same as $\\sum_{i=1}^{t-1} \\mathbb{1}_{A_i = a}$).\n",
    "  \n",
    "Compare to the original formula, there's a new addition term **STD(a)**. It is the standard deviation of each group's past rewards. In order to make sure **the model explore more** at the begining stage, I **force the initial values of the standard deviation of those groups not chosen yet to be 1**. Hence, the first two elements of the formula for thoses groups not chosen yet would be large. Thus, they would be more likely to be chosen in the begining stage.\n",
    "\n",
    "  \n"
   ]
  },
  {
   "cell_type": "code",
   "execution_count": 120,
   "metadata": {},
   "outputs": [],
   "source": [
    "# C. Create a function to calculate the adjusted values under UCB\n",
    "def ucb_calc(curr_values, t, counter, c):\n",
    "    ucb_values = [0]*len(curr_values)\n",
    "    for i in range(k):\n",
    "        if counter[i] == 0:\n",
    "            ucb_values[i] = curr_values[i] + 9999.99   # some very large number to represent \"infinity\"\n",
    "        else:\n",
    "            ucb_values[i] = curr_values[i] + c * np.sqrt(np.log(t) / counter[i])\n",
    "    return ucb_values"
   ]
  },
  {
   "cell_type": "code",
   "execution_count": 136,
   "metadata": {},
   "outputs": [
    {
     "name": "stderr",
     "output_type": "stream",
     "text": [
      "/opt/anaconda3/lib/python3.7/site-packages/numpy/core/_methods.py:217: RuntimeWarning: Degrees of freedom <= 0 for slice\n",
      "  keepdims=keepdims)\n",
      "/opt/anaconda3/lib/python3.7/site-packages/numpy/core/_methods.py:186: RuntimeWarning: invalid value encountered in true_divide\n",
      "  arrmean, rcount, out=arrmean, casting='unsafe', subok=False)\n",
      "/opt/anaconda3/lib/python3.7/site-packages/numpy/core/_methods.py:209: RuntimeWarning: invalid value encountered in double_scalars\n",
      "  ret = ret.dtype.type(ret / rcount)\n"
     ]
    }
   ],
   "source": [
    "np.random.seed(999)\n",
    "# Create a 2D list to store all the rewards so that we could calculate the standard deviation\n",
    "all_rewards=[]\n",
    "for i in range(k):\n",
    "    tem=[]\n",
    "    all_rewards.append([])\n",
    "\n",
    "# Create a list to store each group's standard deviation\n",
    "# With a initial value of 1, it forces the machine to choose those groups with no samples in initial stage\n",
    "std=[1]*k  \n",
    "\n",
    "# Create a variable called final value = current value + standard deviation\n",
    "final_values=[0]*k\n",
    "\n",
    "# UCB\n",
    "curr_values = [0]*k  # initial values\n",
    "counter = [0]*k  # initialize counter\n",
    "c = 10 #Lots of exploration\n",
    "reward_ucb = []\n",
    "sumreward_ucb = []\n",
    "avereward_ucb = []\n",
    "for t in range(T):\n",
    "    # do the UCB value adjustments\n",
    "    ucb_values = ucb_calc(curr_values, t+1, counter, c)\n",
    "    final_values=np.add(std,ucb_values)\n",
    "    # current best arm\n",
    "    group = np.argmax(final_values)    \n",
    "    reward = choose(group)\n",
    "    reward_ucb.append(reward)\n",
    "    \n",
    "    all_rewards[group].append(reward) #store all the historic rewards for each group\n",
    "    for i in range(k): #calculate standard deviation for each group\n",
    "        if np.isnan(np.std(all_rewards[i])):\n",
    "            std\n",
    "        else:\n",
    "            std[i]=np.std(all_rewards[i])\n",
    "    \n",
    "    # record sum and average reward up to this round\n",
    "    sumreward_ucb.append(np.sum(reward_ucb))\n",
    "    avereward_ucb.append(np.mean(reward_ucb))\n",
    "    # update curr_values\n",
    "    curr_values, counter = value_est(curr_values, counter, group, reward)\n",
    "    #final_values=np.add(std,curr_values)"
   ]
  },
  {
   "cell_type": "code",
   "execution_count": 139,
   "metadata": {},
   "outputs": [
    {
     "data": {
      "image/png": "[encoded data removed]",
      "text/plain": [
       "<Figure size 432x288 with 2 Axes>"
      ]
     },
     "metadata": {
      "needs_background": "light"
     },
     "output_type": "display_data"
    }
   ],
   "source": [
    "# Let's plot the sum and average reward over 2000 samples\n",
    "plt.subplot(1, 2, 1)\n",
    "plt.plot(sumreward_greedy_eps)\n",
    "plt.plot(sumreward_ucb)\n",
    "plt.title(\"Total Reward\")\n",
    "plt.legend([\"epsilon-greedy\",\"UCB\"])\n",
    "\n",
    "plt.subplot(1, 2, 2)\n",
    "plt.plot(avereward_greedy_eps)\n",
    "plt.plot(avereward_ucb)\n",
    "plt.title(\"Average Reward Per Round\")\n",
    "plt.legend([\"epsilon-greedy\",\"UCB\"])\n",
    "plt.show()"
   ]
  },
  {
   "cell_type": "markdown",
   "metadata": {},
   "source": [
    "The result clearly shows that by taking standard deviations of each group into the UCB model, **most groups have sufficient samples and have very close and small standard deviation**. Hence, I believe the modified model does a good job. In addition, based on the two plots above, **the model is cost-aware but not as good as the previous model**. **After some rounds of exploration, model quickly finds the best group**."
   ]
  },
  {
   "cell_type": "code",
   "execution_count": 140,
   "metadata": {},
   "outputs": [
    {
     "name": "stdout",
     "output_type": "stream",
     "text": [
      "The current values of the four groups: 0.173, 1.376, 0.339, -0.832\n",
      "The standard deviation of the four groups: 1.039, 1.047, 0.991, 0.983\n",
      "The amount of samples in the four groups: 204, 1478, 232, 86\n"
     ]
    }
   ],
   "source": [
    "# check out the values, counter, and standard deviations.\n",
    "print('The current values of the four groups: {}, {}, {}, {}'.format(round(curr_values[0],3),round(curr_values[1],3),round(curr_values[2],3),round(curr_values[3],3)))\n",
    "print('The standard deviation of the four groups: {}, {}, {}, {}'.format(round(std[0],3),round(std[1],3),round(std[2],3),round(std[3],3)))\n",
    "print('The amount of samples in the four groups: {}, {}, {}, {}'.format(round(counter[0],0),round(counter[1],0),round(counter[2],0),round(counter[3],0)))"
   ]
  },
  {
   "cell_type": "markdown",
   "metadata": {},
   "source": [
    "## Conclusion:\n",
    "By taking the standard deviation into account, **both modified methods do a great job at controling the standard deviation** and **force each group to acquire sufficent samples**. Furthermore, **the modified epsilon-greedy model is more cost-effective in general** and has both higher **total reward and average reward per round**.  \n",
    "   \n",
    "In conclusion, I believe that **taking the standard deviation of each group's past rewards into account** is a an effective way to **make cost-aware A/B testing model more robust** and make sure **all control and treatment groups have sufficient samples and small standard deviation**."
   ]
  }
 ],
 "metadata": {
  "kernelspec": {
   "display_name": "Python 3",
   "language": "python",
   "name": "python3"
  },
  "language_info": {
   "codemirror_mode": {
    "name": "ipython",
    "version": 3
   },
   "file_extension": ".py",
   "mimetype": "text/x-python",
   "name": "python",
   "nbconvert_exporter": "python",
   "pygments_lexer": "ipython3",
   "version": "3.7.6"
  }
 },
 "nbformat": 4,
 "nbformat_minor": 4
}
